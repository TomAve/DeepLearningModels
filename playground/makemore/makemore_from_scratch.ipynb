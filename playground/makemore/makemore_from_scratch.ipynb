{
 "cells": [
  {
   "cell_type": "code",
   "execution_count": null,
   "metadata": {},
   "outputs": [],
   "source": [
    "words = open(\"names.txt\", \"r\").read().splitlines()\n",
    "len(min(words, key=len)), len(max(words, key=len))"
   ]
  },
  {
   "cell_type": "code",
   "execution_count": null,
   "metadata": {},
   "outputs": [],
   "source": [
    "import torch\n",
    "\n",
    "N = torch.zeros((28, 28), dtype=torch.int32) # we use int32 because we want to count the number of occurences\n",
    "\n",
    "b = {}\n",
    "for w in words:\n",
    "    # adding special character <S> and <E> to indicate start and end of a word\n",
    "    chars = ['<S>'] + list(w) + ['<E>']\n",
    "    for char1, char2 in zip(chars, chars[1:]):\n",
    "        bigram = char1 , char2\n",
    "        b[bigram] = b.get(bigram, 0) + 1 # increment for each occurence of bigram\n",
    "\n",
    "sorted(b.items(), key=lambda x: x[1], reverse=True)\n",
    "b"
   ]
  },
  {
   "cell_type": "code",
   "execution_count": null,
   "metadata": {},
   "outputs": [],
   "source": [
    "chars = sorted(list(set(''.join(words))))\n",
    "stoi = {s:i+1  for i, s in enumerate(chars)} # character to index dictionary\n",
    "stoi['.'] = 0\n",
    "stoi"
   ]
  },
  {
   "cell_type": "code",
   "execution_count": null,
   "metadata": {},
   "outputs": [],
   "source": [
    "import torch\n",
    "\n",
    "N = torch.zeros((27, 27),dtype=torch.int32) # we use int32 because we want to count the number of occurences"
   ]
  },
  {
   "cell_type": "code",
   "execution_count": null,
   "metadata": {},
   "outputs": [],
   "source": [
    "for w in words:\n",
    "    chars = ['.'] + list(w) + ['.']\n",
    "    for char1, char2 in zip(chars, chars[1:]):    \n",
    "        ix1, ix2 = stoi[char1], stoi[char2] # get index of each character tuple\n",
    "        N[ix1, ix2] += 1 # increment for each occurence of bigram"
   ]
  },
  {
   "cell_type": "code",
   "execution_count": null,
   "metadata": {},
   "outputs": [],
   "source": [
    "itos = {i:s for s, i in stoi.items()} # index to character dictionary"
   ]
  },
  {
   "cell_type": "code",
   "execution_count": null,
   "metadata": {},
   "outputs": [],
   "source": [
    "import matplotlib.pyplot as plt\n",
    "%matplotlib inline\n",
    "\n",
    "plt.figure(figsize=(16, 16))\n",
    "plt.imshow(N, cmap='Blues')\n",
    "for i in range(27):\n",
    "    for j in range(27):\n",
    "        chstr = itos[i] + itos[j]\n",
    "        # display bigram bottom and its count top\n",
    "        plt.text(j, i, chstr, ha='center', va='bottom', color='gray')\n",
    "        plt.text(j, i, N[i, j].item(), ha='center', va='top', color='gray')\n",
    "plt.axis('off')"
   ]
  },
  {
   "cell_type": "code",
   "execution_count": null,
   "metadata": {},
   "outputs": [],
   "source": [
    "p = N[0].float() \n",
    "p = p / p.sum()"
   ]
  },
  {
   "cell_type": "code",
   "execution_count": null,
   "metadata": {},
   "outputs": [],
   "source": [
    "g = torch.Generator().manual_seed(2147483647 + 1)\n",
    "ix = torch.multinomial(p, num_samples=1, replacement=True, generator=g).item()\n",
    "itos[ix]"
   ]
  },
  {
   "cell_type": "code",
   "execution_count": null,
   "metadata": {},
   "outputs": [],
   "source": [
    "P = (N + 1).float() # add-one smoothing\n",
    "print(P.sum(1, keepdim=True))\n",
    "P /= P.sum(1, keepdim=True)\n"
   ]
  },
  {
   "cell_type": "code",
   "execution_count": null,
   "metadata": {},
   "outputs": [],
   "source": [
    "g = torch.Generator().manual_seed(2147483647)\n",
    "# the model give us better result that a random model but it's still not good\n",
    "for i in range(10):\n",
    "    ix = 0 # P[0] is the distribution of the first bigram\n",
    "    out = []\n",
    "    while True:\n",
    "        # next character is sampled from the distribution of the current bigram\n",
    "        ix = torch.multinomial(P[ix], num_samples=1, replacement=True, generator=g).item()\n",
    "        out.append(itos[ix])\n",
    "        if ix == 0: break # if bigram end with the special character then stop\n",
    "    print(''.join(out))\n"
   ]
  },
  {
   "cell_type": "code",
   "execution_count": null,
   "metadata": {},
   "outputs": [],
   "source": [
    "# log likelihood is the log of the product of the probabilities of each bigram)\n",
    "# and we know that log(a*b*c) = log(a) + log(b) + log(c)\n",
    "log_likelihood = 0\n",
    "n = 0\n",
    "for w in words:\n",
    "    chars = ['.'] + list(w) + ['.']\n",
    "    for char1, char2 in zip(chars, chars[1:]):    \n",
    "        ix1, ix2 = stoi[char1], stoi[char2] # get index of each character tuple\n",
    "        prob = P[ix1, ix2]\n",
    "        logProb = torch.log(prob)\n",
    "        log_likelihood += logProb\n",
    "        n += 1\n",
    "# problem is : we want the loss function to be minimized, but the log likelihood should be maximized\n",
    "nll = -log_likelihood # negative log likelihood\n",
    "print(f'{nll=}') \n",
    "print(f'{nll/n=}') # normalized negative log likelihood, average instead of sum\n"
   ]
  },
  {
   "cell_type": "code",
   "execution_count": null,
   "metadata": {},
   "outputs": [],
   "source": [
    "# How to cast the bigram model as a neural network?"
   ]
  },
  {
   "cell_type": "code",
   "execution_count": 768,
   "metadata": {},
   "outputs": [
    {
     "data": {
      "text/plain": [
       "torch.Size([228146])"
      ]
     },
     "execution_count": 768,
     "metadata": {},
     "output_type": "execute_result"
    }
   ],
   "source": [
    "# create the training set of bigrams\n",
    "\n",
    "xs, ys = [], [] # input and target\n",
    "\n",
    "for w in words:\n",
    "    chars = ['.'] + list(w) + ['.']\n",
    "    for char1, char2 in zip(chars, chars[1:]):    \n",
    "        ix1, ix2 = stoi[char1], stoi[char2]\n",
    "        xs.append(ix1)\n",
    "        ys.append(ix2)\n",
    "xs = torch.tensor(xs)\n",
    "ys = torch.tensor(ys)\n",
    "xs.shape"
   ]
  },
  {
   "cell_type": "code",
   "execution_count": 811,
   "metadata": {},
   "outputs": [
    {
     "name": "stdout",
     "output_type": "stream",
     "text": [
      "Step: 1, loss: 3.769151449203491\n",
      "Step: 101, loss: 2.912829875946045\n",
      "Step: 201, loss: 2.720900535583496\n",
      "Step: 301, loss: 2.643017530441284\n",
      "Step: 401, loss: 2.599700927734375\n",
      "Step: 501, loss: 2.571789503097534\n",
      "Step: 601, loss: 2.5523715019226074\n",
      "Step: 701, loss: 2.5380971431732178\n",
      "Step: 801, loss: 2.5271337032318115\n",
      "Step: 901, loss: 2.5184268951416016\n",
      "Step: 1001, loss: 2.511338233947754\n",
      "Step: 1101, loss: 2.505459785461426\n",
      "Step: 1201, loss: 2.500516653060913\n",
      "Step: 1301, loss: 2.496314764022827\n",
      "Step: 1401, loss: 2.4927122592926025\n",
      "Step: 1501, loss: 2.489600896835327\n",
      "Step: 1601, loss: 2.486896514892578\n",
      "Step: 1701, loss: 2.4845306873321533\n",
      "Step: 1801, loss: 2.4824490547180176\n",
      "Step: 1901, loss: 2.4806056022644043\n",
      "loss: 2.48\n"
     ]
    }
   ],
   "source": [
    "import torch.nn.functional as F\n",
    "\n",
    "W = torch.randn((27, 27), requires_grad=True, generator=g) # first dim is the number of classes, second dim is the number of neurons\n",
    "stepSize = 2000\n",
    "for i in range(stepSize):\n",
    "    # forward pass\n",
    "    xenc = F.one_hot(xs, num_classes=27).float()\n",
    "    logits = (xenc @ W) # log-counts, we consider that these are counts but in log space(which allow us to use negative values)\n",
    "    # since we are using log-counts, we need to use exp() to get the counts\n",
    "    counts = (xenc @ W).exp() # bringing negative values back to positive\n",
    "    prob = counts / counts.sum(1, keepdim=True) # normalize to get probabilities\n",
    "    # two line above are equivalent to softmax\n",
    "    loss = -prob[torch.arange(len(xs)), ys].log().mean() # using torch advanced indexing\n",
    "    if i % 100 == 0: print(f'Step: {i + 1}, loss: {loss}')\n",
    "    # backward pass\n",
    "    W.grad = None\n",
    "    loss.backward()\n",
    "\n",
    "    # update\n",
    "    lr = 2\n",
    "    W.data -= lr * W.grad.data\n",
    "print(f'loss: {loss:.2f}')"
   ]
  },
  {
   "cell_type": "code",
   "execution_count": 810,
   "metadata": {},
   "outputs": [],
   "source": [
    "# for step size = 2000\n",
    "# lr : 0.5 -> loss : 2.57\n",
    "# lr : 0.75 -> loss : 2.53\n",
    "# lr : 1 -> loss : 2.51\n",
    "# lr : 1.25 -> loss : 2.50\n",
    "# lr : 1.5 -> loss : 2.49 (bellow 2.5 between 1501 and 1601)\n",
    "# lr : 2.0 -> loss : 2.48 (bellow 2.5 between 1201 and 1301)"
   ]
  },
  {
   "cell_type": "code",
   "execution_count": null,
   "metadata": {},
   "outputs": [],
   "source": [
    "# We interpret prob as the following: each row is a distribution of the next character given the current character\n",
    "# We have a way to mesure the quality of this distribution: the negative log libkelihood\n",
    "# During the backpropagation, we are fine tuning the weights of the neural network to minimize the negative log likelihood"
   ]
  },
  {
   "cell_type": "code",
   "execution_count": 803,
   "metadata": {},
   "outputs": [
    {
     "name": "stdout",
     "output_type": "stream",
     "text": [
      "dytiymsvezturrj.\n",
      "lt.\n",
      "mfkeo.\n",
      "ear.\n",
      "hoptlai.\n",
      "in.\n",
      "j.\n",
      "lnalaveamn.\n",
      "tlavea.\n",
      "md.\n"
     ]
    }
   ],
   "source": [
    "for i in range(10):\n",
    "    ix = 0\n",
    "    out = []\n",
    "    while True:\n",
    "        ix = torch.multinomial(prob[ix], num_samples=1, replacement=True, generator=g).item()\n",
    "        out.append(itos[ix])\n",
    "        if ix == 0: break \n",
    "    print(''.join(out))\n"
   ]
  }
 ],
 "metadata": {
  "kernelspec": {
   "display_name": "deepLearning",
   "language": "python",
   "name": "python3"
  },
  "language_info": {
   "codemirror_mode": {
    "name": "ipython",
    "version": 3
   },
   "file_extension": ".py",
   "mimetype": "text/x-python",
   "name": "python",
   "nbconvert_exporter": "python",
   "pygments_lexer": "ipython3",
   "version": "3.10.11"
  },
  "orig_nbformat": 4
 },
 "nbformat": 4,
 "nbformat_minor": 2
}
